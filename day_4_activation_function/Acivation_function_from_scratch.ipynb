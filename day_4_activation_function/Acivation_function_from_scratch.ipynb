{
  "nbformat": 4,
  "nbformat_minor": 0,
  "metadata": {
    "colab": {
      "provenance": []
    },
    "kernelspec": {
      "name": "python3",
      "display_name": "Python 3"
    },
    "language_info": {
      "name": "python"
    }
  },
  "cells": [
    {
      "cell_type": "markdown",
      "source": [
        "## import libaries"
      ],
      "metadata": {
        "id": "-LcYoOFLnRaT"
      }
    },
    {
      "cell_type": "code",
      "execution_count": 8,
      "metadata": {
        "id": "2sriUIkUnNku"
      },
      "outputs": [],
      "source": [
        "import math\n",
        "import numpy as np"
      ]
    },
    {
      "cell_type": "markdown",
      "source": [
        "## sigmoid function"
      ],
      "metadata": {
        "id": "_98-MPABnX_S"
      }
    },
    {
      "cell_type": "code",
      "source": [
        "def sigmoid1(x):\n",
        "  return 1/(1+math.exp(-x))\n"
      ],
      "metadata": {
        "id": "R2EplRwOnW8V"
      },
      "execution_count": 2,
      "outputs": []
    },
    {
      "cell_type": "code",
      "source": [
        "def sigmoid2(x):\n",
        "  return 1/(1+np.exp(-x))"
      ],
      "metadata": {
        "id": "GU9jNd-1oN4b"
      },
      "execution_count": 3,
      "outputs": []
    },
    {
      "cell_type": "code",
      "source": [
        "print(f\"usining math libaries:\", sigmoid1(2))"
      ],
      "metadata": {
        "colab": {
          "base_uri": "https://localhost:8080/"
        },
        "id": "UAFIFDZpoTvh",
        "outputId": "eea7268b-cabe-4e50-b503-e31a1b919817"
      },
      "execution_count": 6,
      "outputs": [
        {
          "output_type": "stream",
          "name": "stdout",
          "text": [
            "usining math libaries: 0.8807970779778823\n"
          ]
        }
      ]
    },
    {
      "cell_type": "code",
      "source": [
        "print(f\"usining math libaries:\", sigmoid2(900))"
      ],
      "metadata": {
        "colab": {
          "base_uri": "https://localhost:8080/"
        },
        "id": "wfbFg7oAohv5",
        "outputId": "6c4d12c9-d732-469a-fdeb-89f372396ea7"
      },
      "execution_count": 22,
      "outputs": [
        {
          "output_type": "stream",
          "name": "stdout",
          "text": [
            "usining math libaries: 1.0\n"
          ]
        }
      ]
    },
    {
      "cell_type": "markdown",
      "source": [],
      "metadata": {
        "id": "I878rf2Zox20"
      }
    },
    {
      "cell_type": "markdown",
      "source": [
        "## Relu Acivation"
      ],
      "metadata": {
        "id": "i-QRUgmBo0uM"
      }
    },
    {
      "cell_type": "code",
      "source": [
        "def Relu(x):\n",
        "  return np.max(0,x)"
      ],
      "metadata": {
        "id": "q_a2qX0ao352"
      },
      "execution_count": 13,
      "outputs": []
    },
    {
      "cell_type": "code",
      "source": [
        "print(Relu(-1))"
      ],
      "metadata": {
        "colab": {
          "base_uri": "https://localhost:8080/"
        },
        "id": "E5J38BkXpAmM",
        "outputId": "d02735bd-ef6e-40d6-f10e-9b12139c65e1"
      },
      "execution_count": 14,
      "outputs": [
        {
          "output_type": "stream",
          "name": "stdout",
          "text": [
            "0\n"
          ]
        }
      ]
    },
    {
      "cell_type": "code",
      "source": [
        "def relu(x):\n",
        "  if x>0:\n",
        "    return x\n",
        "  else:\n",
        "    return 0"
      ],
      "metadata": {
        "id": "ixDjUqzhqpfw"
      },
      "execution_count": 23,
      "outputs": []
    },
    {
      "cell_type": "code",
      "source": [
        "print(relu(2))"
      ],
      "metadata": {
        "colab": {
          "base_uri": "https://localhost:8080/"
        },
        "id": "Ke4b92Tdq8vl",
        "outputId": "1a7714c7-e1ec-4bce-8495-1bddba3424fe"
      },
      "execution_count": 25,
      "outputs": [
        {
          "output_type": "stream",
          "name": "stdout",
          "text": [
            "2\n"
          ]
        }
      ]
    },
    {
      "cell_type": "markdown",
      "source": [
        "## Tanh Function"
      ],
      "metadata": {
        "id": "7vRyY2Grqp8K"
      }
    },
    {
      "cell_type": "code",
      "source": [
        "def tanh(x):\n",
        "  return (np.exp(x)-np.exp(-x))/(np.exp(x)+np.exp(-x))"
      ],
      "metadata": {
        "id": "D21Dx9wqqtOc"
      },
      "execution_count": 26,
      "outputs": []
    },
    {
      "cell_type": "code",
      "source": [
        "print(tanh(-3))"
      ],
      "metadata": {
        "colab": {
          "base_uri": "https://localhost:8080/"
        },
        "id": "ffhdzTIHrhYa",
        "outputId": "77557426-f02f-4854-b71d-c6f8aa96e9e7"
      },
      "execution_count": 27,
      "outputs": [
        {
          "output_type": "stream",
          "name": "stdout",
          "text": [
            "-0.9950547536867306\n"
          ]
        }
      ]
    },
    {
      "cell_type": "code",
      "source": [],
      "metadata": {
        "id": "brFk2b7HroKz"
      },
      "execution_count": null,
      "outputs": []
    },
    {
      "cell_type": "markdown",
      "source": [
        "## Softmax Activation"
      ],
      "metadata": {
        "id": "nz7RpYZ_ro47"
      }
    },
    {
      "cell_type": "code",
      "source": [
        "def softmax(x):\n",
        " # x-->list\n",
        " exp_x =[np.exp(i) for i in x]\n",
        " sum_exp_x =  sum(exp_x)\n",
        " # compute softmax value for each element of x\n",
        " return [j/sum_exp_x for j in exp_x]\n",
        "\n",
        " print(sum_exp_x)"
      ],
      "metadata": {
        "id": "35IluFClrs_k"
      },
      "execution_count": 34,
      "outputs": []
    },
    {
      "cell_type": "code",
      "source": [
        "print(f\" softmax value is \",softmax([2,1,-1]))"
      ],
      "metadata": {
        "colab": {
          "base_uri": "https://localhost:8080/"
        },
        "id": "ndVUv2qKuWCE",
        "outputId": "baabde1b-e6ab-4c67-aeda-31c13bb869fc"
      },
      "execution_count": 37,
      "outputs": [
        {
          "output_type": "stream",
          "name": "stdout",
          "text": [
            " softmax value is  [0.7053845126982412, 0.2594964603424191, 0.03511902695933972]\n"
          ]
        }
      ]
    }
  ]
}